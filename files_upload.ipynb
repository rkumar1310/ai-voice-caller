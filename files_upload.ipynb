{
 "cells": [
  {
   "cell_type": "code",
   "execution_count": 28,
   "metadata": {},
   "outputs": [
    {
     "name": "stdout",
     "output_type": "stream",
     "text": [
      "{\"time\":0.6224648952484131,\"transcription\":\" yes what exactly do you want to know\"}\n",
      "\n",
      " yes what exactly do you want to know\n",
      "--- 0.9572930335998535 seconds ---\n"
     ]
    }
   ],
   "source": [
    "import requests\n",
    "import time\n",
    "start_time = time.time()\n",
    "url = 'https://objectives-whole-desktop-liberia.trycloudflare.com/upload'\n",
    "# header bypass-tunnel-reminder\n",
    "headers = {'bypass-tunnel-reminder': 'true'}\n",
    "files = {'file': open('./audio_files/06c0be60-d918-4da2-9602-69a862cff520_0.wav', 'rb')}  # Specify the file you want to upload\n",
    "\n",
    "response = requests.post(url, files=files, headers=headers)\n",
    "\n",
    "print(response.text)\n",
    "\n",
    "resp = response.json()\n",
    "print(resp[\"transcription\"])\n",
    "print(\"--- %s seconds ---\" % (time.time() - start_time))"
   ]
  },
  {
   "cell_type": "markdown",
   "metadata": {},
   "source": []
  }
 ],
 "metadata": {
  "kernelspec": {
   "display_name": "venv",
   "language": "python",
   "name": "python3"
  },
  "language_info": {
   "codemirror_mode": {
    "name": "ipython",
    "version": 3
   },
   "file_extension": ".py",
   "mimetype": "text/x-python",
   "name": "python",
   "nbconvert_exporter": "python",
   "pygments_lexer": "ipython3",
   "version": "3.11.4"
  }
 },
 "nbformat": 4,
 "nbformat_minor": 2
}
