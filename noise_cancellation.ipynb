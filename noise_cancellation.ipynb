{
 "cells": [
  {
   "cell_type": "code",
   "execution_count": 7,
   "metadata": {},
   "outputs": [
    {
     "name": "stdout",
     "output_type": "stream",
     "text": [
      "Time taken: 0.05416607856750488 seconds\n"
     ]
    }
   ],
   "source": [
    "import time\n",
    "from scipy.io import wavfile\n",
    "import noisereduce as nr\n",
    "import os\n",
    "start_time = time.time()\n",
    "# load data\n",
    "file_path = \"audio_files/f5cb6f24-b8b7-42ed-ba3b-8047e09c6bd6_full_audio.wav\"\n",
    "rate, data = wavfile.read(file_path)\n",
    "\n",
    "# change file name\n",
    "base, ext = os.path.splitext(file_path)\n",
    "noise_reduced_path = f\"{base}_noise_reduced_1{ext}\"\n",
    "\n",
    "# perform noise reduction\n",
    "reduced_noise = nr.reduce_noise(y=data, sr=rate)\n",
    "wavfile.write(noise_reduced_path, rate, reduced_noise)\n",
    "print(f\"Time taken: {time.time() - start_time} seconds\")"
   ]
  }
 ],
 "metadata": {
  "kernelspec": {
   "display_name": "venv",
   "language": "python",
   "name": "python3"
  },
  "language_info": {
   "codemirror_mode": {
    "name": "ipython",
    "version": 3
   },
   "file_extension": ".py",
   "mimetype": "text/x-python",
   "name": "python",
   "nbconvert_exporter": "python",
   "pygments_lexer": "ipython3",
   "version": "3.11.4"
  }
 },
 "nbformat": 4,
 "nbformat_minor": 2
}
