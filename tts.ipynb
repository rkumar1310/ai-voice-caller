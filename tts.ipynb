{
 "cells": [
  {
   "cell_type": "code",
   "execution_count": 9,
   "metadata": {},
   "outputs": [
    {
     "name": "stdout",
     "output_type": "stream",
     "text": [
      "time taken to get audio response 1.6882240772247314\n"
     ]
    }
   ],
   "source": [
    "from elevenlabs import stream\n",
    "from elevenlabs.client import AsyncElevenLabs\n",
    "import time\n",
    "client = AsyncElevenLabs(\n",
    "    api_key=\"sk_4b12e31aac58ccfddd7c31ea9a568fabbdd6735f894978ac\",  # Defaults to ELEVEN_API_KEY\n",
    ")\n",
    "\n",
    "start_time = time.time()\n",
    "# for chunk in client.generate(\n",
    "#     text=message, voice=\"Brian\", model=\"eleven_turbo_v2_5\", stream=True\n",
    "# ):\n",
    "#     await self.websocket.send(chunk)\n",
    "\n",
    "response = await client.generate(\n",
    "    text = \"\"\"Hello, how are you doing today?, I am doing great thank you for asking, I am a text to speech service, I can help you convert text to speech\n",
    "    and I can also help you convert speech to text, I am a very useful tool for developers, I can help you build amazing applications.\"\"\",\n",
    "    voice=\"Brian\",\n",
    "    model=\"eleven_turbo_v2_5\",\n",
    "    output_format=\"pcm_16000\",\n",
    "    stream=True,\n",
    ")\n",
    "\n",
    "hasFirstChunk = False\n",
    "\n",
    "async for chunk in response:\n",
    "    if not hasFirstChunk:\n",
    "        hasFirstChunk = True\n",
    "        print(\n",
    "            \"time taken to get audio response\",\n",
    "            time.time() - start_time\n",
    "        )\n",
    "\n",
    "        continue\n"
   ]
  }
 ],
 "metadata": {
  "kernelspec": {
   "display_name": "venv",
   "language": "python",
   "name": "python3"
  },
  "language_info": {
   "codemirror_mode": {
    "name": "ipython",
    "version": 3
   },
   "file_extension": ".py",
   "mimetype": "text/x-python",
   "name": "python",
   "nbconvert_exporter": "python",
   "pygments_lexer": "ipython3",
   "version": "3.11.4"
  }
 },
 "nbformat": 4,
 "nbformat_minor": 2
}
